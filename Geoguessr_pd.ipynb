{
  "nbformat": 4,
  "nbformat_minor": 0,
  "metadata": {
    "colab": {
      "provenance": [],
      "gpuType": "T4",
      "authorship_tag": "ABX9TyOBrk5iaDdDivaxZtpLDzdc",
      "include_colab_link": true
    },
    "kernelspec": {
      "name": "python3",
      "display_name": "Python 3"
    },
    "language_info": {
      "name": "python"
    },
    "accelerator": "GPU"
  },
  "cells": [
    {
      "cell_type": "markdown",
      "metadata": {
        "id": "view-in-github",
        "colab_type": "text"
      },
      "source": [
        "<a href=\"https://colab.research.google.com/github/tomoakism/geoguessrpd/blob/main/Geoguessr_pd.ipynb\" target=\"_parent\"><img src=\"https://colab.research.google.com/assets/colab-badge.svg\" alt=\"Open In Colab\"/></a>"
      ]
    },
    {
      "cell_type": "markdown",
      "metadata": {
        "id": "BA9Oxq-YQaBf"
      },
      "source": [
        "Google Driveをマウント"
      ]
    },
    {
      "cell_type": "code",
      "execution_count": null,
      "metadata": {
        "id": "aIcaYo-VPAdf"
      },
      "outputs": [],
      "source": [
        "from google.colab import drive\n",
        "drive.mount('/content/drive/')"
      ]
    },
    {
      "cell_type": "code",
      "execution_count": null,
      "metadata": {
        "id": "Wu-_6ETSQmqj"
      },
      "outputs": [],
      "source": [
        "%cd \"/content/drive/My Drive/Geoguessrpd\""
      ]
    },
    {
      "cell_type": "markdown",
      "source": [
        "GPUに接続"
      ],
      "metadata": {
        "id": "u9oC0Dmru0cg"
      }
    },
    {
      "cell_type": "code",
      "execution_count": null,
      "metadata": {
        "id": "PDUvDSZe0WYb"
      },
      "outputs": [],
      "source": [
        "import torch\n",
        "\n",
        "device = torch.device(\"cuda:0\" if torch.cuda.is_available() else \"cpu\")\n",
        "print(device)"
      ]
    },
    {
      "cell_type": "markdown",
      "source": [
        "\n",
        "\n",
        "---\n",
        "\n"
      ],
      "metadata": {
        "id": "jasbK1Ci1B1y"
      }
    },
    {
      "cell_type": "markdown",
      "source": [
        "データセットを読み込むためのクラス\n"
      ],
      "metadata": {
        "id": "xZWh2w6W1Cs6"
      }
    },
    {
      "cell_type": "code",
      "execution_count": null,
      "metadata": {
        "id": "SZnQvC0hyJnI"
      },
      "outputs": [],
      "source": [
        "from torch.utils.data import Dataset\n",
        "from PIL import Image\n",
        "import os\n",
        "\n",
        "class StreetViewDataset(Dataset):\n",
        "    def __init__(self, image_dir, transform=None):\n",
        "        self.image_dir = image_dir\n",
        "        self.image_filenames = os.listdir(image_dir)\n",
        "        self.transform = transform\n",
        "\n",
        "    def __len__(self):\n",
        "        return len(self.image_filenames)\n",
        "\n",
        "    def __getitem__(self, idx):\n",
        "        img_name = os.path.join(self.image_dir, self.image_filenames[idx])\n",
        "        image = Image.open(img_name).convert('RGB')\n",
        "\n",
        "        # ファイル名から座標を取り出す\n",
        "        coord = self.image_filenames[idx].split('_')[:2]\n",
        "        coord = [float(x) for x in coord]\n",
        "\n",
        "        if self.transform:\n",
        "            image = self.transform(image)\n",
        "\n",
        "        return image, torch.tensor(coord)"
      ]
    },
    {
      "cell_type": "markdown",
      "source": [
        "読み込んだ画像の処理"
      ],
      "metadata": {
        "id": "E3rW3XpVvIzt"
      }
    },
    {
      "cell_type": "code",
      "execution_count": null,
      "metadata": {
        "id": "NGeBF-J8yX0l"
      },
      "outputs": [],
      "source": [
        "from torchvision import transforms\n",
        "\n",
        "transform = transforms.Compose([\n",
        "    transforms.Resize((224, 224)),\n",
        "    transforms.ToTensor(),\n",
        "    transforms.Normalize(mean=[0.485, 0.456, 0.406], std=[0.229, 0.224, 0.225]),\n",
        "])"
      ]
    },
    {
      "cell_type": "markdown",
      "source": [
        "データセットを分割"
      ],
      "metadata": {
        "id": "8IC4l3WLvODW"
      }
    },
    {
      "cell_type": "code",
      "execution_count": null,
      "metadata": {
        "id": "vgM-GQlfyiYx"
      },
      "outputs": [],
      "source": [
        "from torch.utils.data import random_split\n",
        "\n",
        "dataset = StreetViewDataset(\"./images\", transform=transform)\n",
        "\n",
        "train_size = int(0.7 * len(dataset))\n",
        "val_size = int(0.15 * len(dataset))\n",
        "test_size = len(dataset) - train_size - val_size\n",
        "\n",
        "train_dataset, val_dataset, test_dataset = random_split(dataset, [train_size, val_size, test_size])"
      ]
    },
    {
      "cell_type": "markdown",
      "source": [
        "データセットの読み込み"
      ],
      "metadata": {
        "id": "DXd4y-_qvWxk"
      }
    },
    {
      "cell_type": "code",
      "execution_count": null,
      "metadata": {
        "id": "qGffWYdsy2hZ"
      },
      "outputs": [],
      "source": [
        "from torch.utils.data import DataLoader\n",
        "\n",
        "batch_num = 256\n",
        "\n",
        "train_loader = DataLoader(train_dataset, batch_size=batch_num, shuffle=True)\n",
        "val_loader = DataLoader(val_dataset, batch_size=batch_num, shuffle=True)\n",
        "test_loader = DataLoader(test_dataset, batch_size=batch_num, shuffle=True)"
      ]
    },
    {
      "cell_type": "markdown",
      "source": [
        "学習済みResNet-50モデルの作成"
      ],
      "metadata": {
        "id": "8_7TpPcJvezj"
      }
    },
    {
      "cell_type": "code",
      "execution_count": null,
      "metadata": {
        "id": "3WQbGAdmzDIc"
      },
      "outputs": [],
      "source": [
        "from torchvision import models\n",
        "\n",
        "model = models.resnet50(pretrained=True)\n",
        "\n",
        "# 事前学習済みのレイヤーを固定\n",
        "for param in model.parameters():\n",
        "    param.requires_grad = False\n",
        "\n",
        "# 最終レイヤーを変更\n",
        "model.fc = torch.nn.Linear(model.fc.in_features, 2)\n",
        "\n",
        "model = model.to(device)"
      ]
    },
    {
      "cell_type": "markdown",
      "source": [
        "ファインチューニング"
      ],
      "metadata": {
        "id": "0q5P1XdLvt2t"
      }
    },
    {
      "cell_type": "code",
      "source": [
        "import torch.optim as optim\n",
        "\n",
        "criterion = torch.nn.MSELoss()\n",
        "optimizer = optim.Adam(model.parameters())\n",
        "\n",
        "train_losses = []\n",
        "val_losses = []"
      ],
      "metadata": {
        "id": "poNReVuy2NvZ"
      },
      "execution_count": null,
      "outputs": []
    },
    {
      "cell_type": "markdown",
      "source": [
        "\n",
        "\n",
        "---\n",
        "\n",
        "学習済みモデルを読み込む\n"
      ],
      "metadata": {
        "id": "mYcry0Nmw5M2"
      }
    },
    {
      "cell_type": "code",
      "source": [
        "# Assuming you have a model and optimizer created already\n",
        "checkpoint = torch.load('model_256.pth')\n",
        "model.load_state_dict(checkpoint['model_state_dict'])\n",
        "optimizer.load_state_dict(checkpoint['optimizer_state_dict'])\n"
      ],
      "metadata": {
        "id": "QU8Nx0PtENL8"
      },
      "execution_count": null,
      "outputs": []
    },
    {
      "cell_type": "code",
      "source": [
        "import pickle\n",
        "\n",
        "train_losses = []\n",
        "val_losses = []\n",
        "\n",
        "f = open('./train_loss_list.txt','rb')\n",
        "train_losses = pickle.load(f)\n",
        "\n",
        "f = open('./val_loss_list.txt','rb')\n",
        "val_losses = pickle.load(f)"
      ],
      "metadata": {
        "id": "_JNa7tq9xw6y"
      },
      "execution_count": null,
      "outputs": []
    },
    {
      "cell_type": "markdown",
      "source": [
        "\n",
        "\n",
        "---\n",
        "\n"
      ],
      "metadata": {
        "id": "ApfLeqqRxDhk"
      }
    },
    {
      "cell_type": "code",
      "source": [
        "num_epochs = 10"
      ],
      "metadata": {
        "id": "Rm2XpfMUwVO8"
      },
      "execution_count": null,
      "outputs": []
    },
    {
      "cell_type": "code",
      "execution_count": null,
      "metadata": {
        "id": "N86v-_WHzKT5"
      },
      "outputs": [],
      "source": [
        "for epoch in range(num_epochs):\n",
        "    train_loss = 0.0\n",
        "    val_loss = 0.0\n",
        "\n",
        "    model.train()\n",
        "    for inputs, labels in train_loader:\n",
        "      inputs, labels = inputs.to(device), labels.to(device)\n",
        "\n",
        "      optimizer.zero_grad()\n",
        "\n",
        "      outputs = model(inputs)\n",
        "      loss = criterion(outputs, labels)\n",
        "      loss.backward()\n",
        "      optimizer.step()\n",
        "\n",
        "      train_loss += loss.item()\n",
        "\n",
        "    model.eval()\n",
        "    with torch.no_grad():\n",
        "        for inputs, labels in val_loader:\n",
        "            inputs, labels = inputs.to(device), labels.to(device)\n",
        "            outputs = model(inputs)\n",
        "            loss = criterion(outputs, labels)\n",
        "            val_loss += loss.item()\n",
        "\n",
        "    train_loss = train_loss / len(train_loader)\n",
        "    val_loss = val_loss / len(val_loader)\n",
        "    train_losses.append(train_loss)\n",
        "    val_losses.append(val_loss)\n",
        "\n",
        "    print(f'Epoch {epoch+1}, Train Loss: {train_loss}, Validation Loss: {val_loss}')"
      ]
    },
    {
      "cell_type": "markdown",
      "source": [
        "ロスをプロット"
      ],
      "metadata": {
        "id": "GxqQ6QFzwgLh"
      }
    },
    {
      "cell_type": "code",
      "execution_count": null,
      "metadata": {
        "id": "hcaASbJobrZj"
      },
      "outputs": [],
      "source": [
        "print(f\"Training losses: {train_losses}\")\n",
        "print(f\"Validation losses: {val_losses}\")\n",
        "print(len(train_losses))"
      ]
    },
    {
      "cell_type": "code",
      "execution_count": null,
      "metadata": {
        "colab": {
          "base_uri": "https://localhost:8080/",
          "height": 449
        },
        "id": "onQnaGtIDjBs",
        "outputId": "f6c3bbe8-c949-4298-e75e-7429b0ac2935"
      },
      "outputs": [
        {
          "output_type": "display_data",
          "data": {
            "text/plain": [
              "<Figure size 640x480 with 1 Axes>"
            ],
            "image/png": "[encoded data removed]"
          },
          "metadata": {}
        }
      ],
      "source": [
        "import matplotlib.pyplot as plt\n",
        "\n",
        "plt.plot(train_losses, label='Training loss')\n",
        "plt.plot(val_losses, label='Validation loss')\n",
        "plt.xlabel('Epoch')\n",
        "plt.ylabel('Loss')\n",
        "plt.legend()\n",
        "plt.show()"
      ]
    },
    {
      "cell_type": "markdown",
      "source": [
        "モデルをセーブ"
      ],
      "metadata": {
        "id": "tDFhAvlSwvS3"
      }
    },
    {
      "cell_type": "code",
      "source": [
        "checkpoint = {\n",
        "    'model_state_dict': model.state_dict(),\n",
        "    'optimizer_state_dict': optimizer.state_dict()\n",
        "}\n",
        "torch.save(checkpoint, '20230616_256.pth')\n"
      ],
      "metadata": {
        "id": "UrxgatbXuiXp"
      },
      "execution_count": null,
      "outputs": []
    },
    {
      "cell_type": "code",
      "source": [
        "import pickle\n",
        "f = open('./train_loss_list.txt', 'wb')\n",
        "list_row = train_losses\n",
        "pickle.dump(list_row, f)\n",
        "\n",
        "f = open('./val_loss_list.txt', 'wb')\n",
        "list_row = val_losses\n",
        "pickle.dump(list_row, f)\n"
      ],
      "metadata": {
        "id": "FygBo6ufmlhv"
      },
      "execution_count": null,
      "outputs": []
    },
    {
      "cell_type": "markdown",
      "source": [
        "モデルのテスト"
      ],
      "metadata": {
        "id": "PytZKTDU2gLH"
      }
    },
    {
      "cell_type": "markdown",
      "source": [
        "モデルをチェックポイントからロード"
      ],
      "metadata": {
        "id": "zL1gDl2A2lgc"
      }
    },
    {
      "cell_type": "code",
      "source": [
        "checkpoint = torch.load('model_256.pth')\n",
        "model.load_state_dict(checkpoint['model_state_dict'])"
      ],
      "metadata": {
        "id": "3Gt4yAbp2njp"
      },
      "execution_count": null,
      "outputs": []
    },
    {
      "cell_type": "code",
      "source": [
        "model = model.to(device)\n",
        "model.eval()\n",
        "\n",
        "total_loss = 0\n",
        "\n",
        "# テストデータを学習済みモデルでテスト\n",
        "with torch.no_grad():\n",
        "    for inputs, labels in test_loader:\n",
        "        inputs, labels = inputs.to(device), labels.to(device)\n",
        "        outputs = model(inputs)\n",
        "        loss = criterion(outputs, labels)\n",
        "        total_loss += loss.item() * inputs.size(0)\n",
        "\n",
        "avg_loss = total_loss / len(test_loader.dataset)\n",
        "\n",
        "print('Test Loss:', avg_loss)"
      ],
      "metadata": {
        "id": "kSx6ijzV2ieP"
      },
      "execution_count": null,
      "outputs": []
    }
  ]
}